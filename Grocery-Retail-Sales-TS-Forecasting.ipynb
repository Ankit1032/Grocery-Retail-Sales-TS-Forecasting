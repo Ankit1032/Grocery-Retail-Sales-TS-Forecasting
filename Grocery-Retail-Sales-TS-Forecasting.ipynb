{
 "cells": [
  {
   "cell_type": "markdown",
   "id": "630d3e65",
   "metadata": {},
   "source": [
    "## Additonal Notes\n",
    "\n",
    "<b>1.</b> Wages in the public sector are paid every two weeks on the 15th and on the last day of the month. Supermarket sales could be affected by this.\n",
    "\n",
    "<b>2.</b> A magnitude <i>7.8</i> earthquake struck Ecuador on April 16, 2016. People rallied in relief efforts donating water and other first need products which greatly affected supermarket sales for several weeks after the earthquake."
   ]
  },
  {
   "cell_type": "code",
   "execution_count": 1,
   "id": "1e992b6b",
   "metadata": {},
   "outputs": [],
   "source": [
    "import os\n",
    "from datetime import datetime\n",
    "import pandas as pd\n",
    "import numpy as np\n",
    "import seaborn as sns\n",
    "from prophet import Prophet\n",
    "import matplotlib.pyplot as plt\n",
    "%matplotlib inline"
   ]
  },
  {
   "cell_type": "markdown",
   "id": "034c4500",
   "metadata": {},
   "source": [
    "### Print all the datasets available"
   ]
  },
  {
   "cell_type": "code",
   "execution_count": 2,
   "id": "23e55d11",
   "metadata": {},
   "outputs": [],
   "source": [
    "#Print all datasets\n",
    "f_name = []\n",
    "folder_path = './Datasets'\n",
    "for file_name in os.listdir(folder_path):\n",
    "    f_name.append(file_name)"
   ]
  },
  {
   "cell_type": "code",
   "execution_count": 3,
   "id": "c10ea377",
   "metadata": {},
   "outputs": [
    {
     "data": {
      "text/plain": [
       "['holidays_events.csv',\n",
       " 'oil.csv',\n",
       " 'sample_submission.csv',\n",
       " 'stores.csv',\n",
       " 'test.csv',\n",
       " 'train.csv',\n",
       " 'transactions.csv']"
      ]
     },
     "execution_count": 3,
     "metadata": {},
     "output_type": "execute_result"
    }
   ],
   "source": [
    "f_name"
   ]
  },
  {
   "cell_type": "markdown",
   "id": "4dc6cf5c",
   "metadata": {},
   "source": [
    "### Make a dataframe for each dataset"
   ]
  },
  {
   "cell_type": "code",
   "execution_count": 4,
   "id": "334012a5",
   "metadata": {},
   "outputs": [],
   "source": [
    "#Creating a dictionary which will contain all the dataframes\n",
    "dataframes = {}  # Dictionary to store the DataFrames\n",
    "\n",
    "for name in f_name:\n",
    "    df_name = name[:-4] #to remove '.csv'\n",
    "    f_path = folder_path + '/' + name\n",
    "    df = pd.read_csv(f_path)\n",
    "    dataframes[df_name] = df"
   ]
  },
  {
   "cell_type": "code",
   "execution_count": 5,
   "id": "10c6aba8",
   "metadata": {},
   "outputs": [
    {
     "data": {
      "text/plain": [
       "dict_keys(['holidays_events', 'oil', 'sample_submission', 'stores', 'test', 'train', 'transactions'])"
      ]
     },
     "execution_count": 5,
     "metadata": {},
     "output_type": "execute_result"
    }
   ],
   "source": [
    "dataframes.keys()"
   ]
  },
  {
   "cell_type": "code",
   "execution_count": 6,
   "id": "fc3f3778",
   "metadata": {},
   "outputs": [],
   "source": [
    "required_dfs = ['holidays_events', 'oil', 'stores', 'train', 'transactions']"
   ]
  },
  {
   "cell_type": "markdown",
   "id": "e5f40be4",
   "metadata": {},
   "source": [
    "### Converting necessary columns into datetime format"
   ]
  },
  {
   "cell_type": "code",
   "execution_count": 7,
   "id": "9f6301b3",
   "metadata": {},
   "outputs": [],
   "source": [
    "dataframes['holidays_events']['date'] = pd.to_datetime(dataframes['holidays_events']['date'])\n",
    "dataframes['oil']['date'] = pd.to_datetime(dataframes['oil']['date'])\n",
    "dataframes['train']['date'] = pd.to_datetime(dataframes['train']['date'])\n",
    "dataframes['transactions']['date'] = pd.to_datetime(dataframes['transactions']['date'])"
   ]
  },
  {
   "cell_type": "code",
   "execution_count": 8,
   "id": "5c4abd3d",
   "metadata": {},
   "outputs": [
    {
     "data": {
      "text/html": [
       "<div>\n",
       "<style scoped>\n",
       "    .dataframe tbody tr th:only-of-type {\n",
       "        vertical-align: middle;\n",
       "    }\n",
       "\n",
       "    .dataframe tbody tr th {\n",
       "        vertical-align: top;\n",
       "    }\n",
       "\n",
       "    .dataframe thead th {\n",
       "        text-align: right;\n",
       "    }\n",
       "</style>\n",
       "<table border=\"1\" class=\"dataframe\">\n",
       "  <thead>\n",
       "    <tr style=\"text-align: right;\">\n",
       "      <th></th>\n",
       "      <th>date</th>\n",
       "      <th>type</th>\n",
       "      <th>locale</th>\n",
       "      <th>locale_name</th>\n",
       "      <th>description</th>\n",
       "      <th>transferred</th>\n",
       "    </tr>\n",
       "  </thead>\n",
       "  <tbody>\n",
       "    <tr>\n",
       "      <th>259</th>\n",
       "      <td>2016-06-25</td>\n",
       "      <td>Holiday</td>\n",
       "      <td>Regional</td>\n",
       "      <td>Imbabura</td>\n",
       "      <td>Provincializacion de Imbabura</td>\n",
       "      <td>False</td>\n",
       "    </tr>\n",
       "    <tr>\n",
       "      <th>96</th>\n",
       "      <td>2014-04-01</td>\n",
       "      <td>Holiday</td>\n",
       "      <td>Regional</td>\n",
       "      <td>Cotopaxi</td>\n",
       "      <td>Provincializacion de Cotopaxi</td>\n",
       "      <td>False</td>\n",
       "    </tr>\n",
       "    <tr>\n",
       "      <th>247</th>\n",
       "      <td>2016-05-10</td>\n",
       "      <td>Event</td>\n",
       "      <td>National</td>\n",
       "      <td>Ecuador</td>\n",
       "      <td>Terremoto Manabi+24</td>\n",
       "      <td>False</td>\n",
       "    </tr>\n",
       "    <tr>\n",
       "      <th>316</th>\n",
       "      <td>2017-06-25</td>\n",
       "      <td>Holiday</td>\n",
       "      <td>Local</td>\n",
       "      <td>Latacunga</td>\n",
       "      <td>Cantonizacion de Latacunga</td>\n",
       "      <td>False</td>\n",
       "    </tr>\n",
       "    <tr>\n",
       "      <th>275</th>\n",
       "      <td>2016-11-02</td>\n",
       "      <td>Holiday</td>\n",
       "      <td>National</td>\n",
       "      <td>Ecuador</td>\n",
       "      <td>Dia de Difuntos</td>\n",
       "      <td>False</td>\n",
       "    </tr>\n",
       "  </tbody>\n",
       "</table>\n",
       "</div>"
      ],
      "text/plain": [
       "          date     type    locale locale_name                    description  \\\n",
       "259 2016-06-25  Holiday  Regional    Imbabura  Provincializacion de Imbabura   \n",
       "96  2014-04-01  Holiday  Regional    Cotopaxi  Provincializacion de Cotopaxi   \n",
       "247 2016-05-10    Event  National     Ecuador            Terremoto Manabi+24   \n",
       "316 2017-06-25  Holiday     Local   Latacunga     Cantonizacion de Latacunga   \n",
       "275 2016-11-02  Holiday  National     Ecuador                Dia de Difuntos   \n",
       "\n",
       "     transferred  \n",
       "259        False  \n",
       "96         False  \n",
       "247        False  \n",
       "316        False  \n",
       "275        False  "
      ]
     },
     "execution_count": 8,
     "metadata": {},
     "output_type": "execute_result"
    }
   ],
   "source": [
    "dataframes['holidays_events'].sample(5)"
   ]
  },
  {
   "cell_type": "code",
   "execution_count": 9,
   "id": "2aefedfa",
   "metadata": {},
   "outputs": [
    {
     "data": {
      "text/plain": [
       "date           2017-12-06 00:00:00\n",
       "type                       Holiday\n",
       "locale                       Local\n",
       "locale_name                  Quito\n",
       "description     Fundacion de Quito\n",
       "transferred                   True\n",
       "Name: 340, dtype: object"
      ]
     },
     "execution_count": 9,
     "metadata": {},
     "output_type": "execute_result"
    }
   ],
   "source": [
    "dataframes['holidays_events'].iloc[340]"
   ]
  },
  {
   "cell_type": "code",
   "execution_count": 10,
   "id": "9b4baf89",
   "metadata": {},
   "outputs": [
    {
     "data": {
      "text/plain": [
       "'Wednesday'"
      ]
     },
     "execution_count": 10,
     "metadata": {},
     "output_type": "execute_result"
    }
   ],
   "source": [
    "# Printing the day name of a day in holiday event when it was Transferred\n",
    "dataframes['holidays_events'].iloc[340]['date'].day_name()"
   ]
  },
  {
   "cell_type": "markdown",
   "id": "abe5c30d",
   "metadata": {},
   "source": [
    "<b>OIL Dataframe Metadata</b>\n",
    "1. date - Actual Date\n",
    "2. dcoilwtico - This column represents dollars per barrel at the time of the corresponding date\n",
    "\n",
    "<b>NOTE : </b><i>Ecuador is an oil-dependent country and it's economical health is highly vulnerable to shocks in oil prices.</i>"
   ]
  },
  {
   "cell_type": "code",
   "execution_count": 11,
   "id": "e119ff8a",
   "metadata": {},
   "outputs": [
    {
     "data": {
      "text/html": [
       "<div>\n",
       "<style scoped>\n",
       "    .dataframe tbody tr th:only-of-type {\n",
       "        vertical-align: middle;\n",
       "    }\n",
       "\n",
       "    .dataframe tbody tr th {\n",
       "        vertical-align: top;\n",
       "    }\n",
       "\n",
       "    .dataframe thead th {\n",
       "        text-align: right;\n",
       "    }\n",
       "</style>\n",
       "<table border=\"1\" class=\"dataframe\">\n",
       "  <thead>\n",
       "    <tr style=\"text-align: right;\">\n",
       "      <th></th>\n",
       "      <th>date</th>\n",
       "      <th>dcoilwtico</th>\n",
       "    </tr>\n",
       "  </thead>\n",
       "  <tbody>\n",
       "    <tr>\n",
       "      <th>908</th>\n",
       "      <td>2016-06-24</td>\n",
       "      <td>46.70</td>\n",
       "    </tr>\n",
       "    <tr>\n",
       "      <th>505</th>\n",
       "      <td>2014-12-09</td>\n",
       "      <td>63.74</td>\n",
       "    </tr>\n",
       "    <tr>\n",
       "      <th>852</th>\n",
       "      <td>2016-04-07</td>\n",
       "      <td>37.30</td>\n",
       "    </tr>\n",
       "    <tr>\n",
       "      <th>103</th>\n",
       "      <td>2013-05-24</td>\n",
       "      <td>93.84</td>\n",
       "    </tr>\n",
       "    <tr>\n",
       "      <th>483</th>\n",
       "      <td>2014-11-07</td>\n",
       "      <td>78.71</td>\n",
       "    </tr>\n",
       "  </tbody>\n",
       "</table>\n",
       "</div>"
      ],
      "text/plain": [
       "          date  dcoilwtico\n",
       "908 2016-06-24       46.70\n",
       "505 2014-12-09       63.74\n",
       "852 2016-04-07       37.30\n",
       "103 2013-05-24       93.84\n",
       "483 2014-11-07       78.71"
      ]
     },
     "execution_count": 11,
     "metadata": {},
     "output_type": "execute_result"
    }
   ],
   "source": [
    "dataframes['oil'].sample(5)"
   ]
  },
  {
   "cell_type": "code",
   "execution_count": 12,
   "id": "2f579698",
   "metadata": {},
   "outputs": [
    {
     "name": "stdout",
     "output_type": "stream",
     "text": [
      "Date range of oil data ranges from 2013-01-01 to 2017-08-31\n"
     ]
    }
   ],
   "source": [
    "min_date = dataframes['oil']['date'].min()\n",
    "max_date = dataframes['oil']['date'].max()\n",
    "\n",
    "min_date_str = min_date.strftime('%Y-%m-%d')\n",
    "max_date_str = max_date.strftime('%Y-%m-%d')\n",
    "\n",
    "print(f'Date range of oil data ranges from {min_date_str} to {max_date_str}')"
   ]
  },
  {
   "cell_type": "markdown",
   "id": "fb1911ca",
   "metadata": {},
   "source": [
    "<b>Stores Dataframe Metadata</b>\n",
    "1. cluster - is a grouping of similar stores."
   ]
  },
  {
   "cell_type": "code",
   "execution_count": 13,
   "id": "5f897465",
   "metadata": {},
   "outputs": [
    {
     "data": {
      "text/html": [
       "<div>\n",
       "<style scoped>\n",
       "    .dataframe tbody tr th:only-of-type {\n",
       "        vertical-align: middle;\n",
       "    }\n",
       "\n",
       "    .dataframe tbody tr th {\n",
       "        vertical-align: top;\n",
       "    }\n",
       "\n",
       "    .dataframe thead th {\n",
       "        text-align: right;\n",
       "    }\n",
       "</style>\n",
       "<table border=\"1\" class=\"dataframe\">\n",
       "  <thead>\n",
       "    <tr style=\"text-align: right;\">\n",
       "      <th></th>\n",
       "      <th>store_nbr</th>\n",
       "      <th>city</th>\n",
       "      <th>state</th>\n",
       "      <th>type</th>\n",
       "      <th>cluster</th>\n",
       "    </tr>\n",
       "  </thead>\n",
       "  <tbody>\n",
       "    <tr>\n",
       "      <th>7</th>\n",
       "      <td>8</td>\n",
       "      <td>Quito</td>\n",
       "      <td>Pichincha</td>\n",
       "      <td>D</td>\n",
       "      <td>8</td>\n",
       "    </tr>\n",
       "    <tr>\n",
       "      <th>18</th>\n",
       "      <td>19</td>\n",
       "      <td>Guaranda</td>\n",
       "      <td>Bolivar</td>\n",
       "      <td>C</td>\n",
       "      <td>15</td>\n",
       "    </tr>\n",
       "    <tr>\n",
       "      <th>4</th>\n",
       "      <td>5</td>\n",
       "      <td>Santo Domingo</td>\n",
       "      <td>Santo Domingo de los Tsachilas</td>\n",
       "      <td>D</td>\n",
       "      <td>4</td>\n",
       "    </tr>\n",
       "    <tr>\n",
       "      <th>28</th>\n",
       "      <td>29</td>\n",
       "      <td>Guayaquil</td>\n",
       "      <td>Guayas</td>\n",
       "      <td>E</td>\n",
       "      <td>10</td>\n",
       "    </tr>\n",
       "    <tr>\n",
       "      <th>53</th>\n",
       "      <td>54</td>\n",
       "      <td>El Carmen</td>\n",
       "      <td>Manabi</td>\n",
       "      <td>C</td>\n",
       "      <td>3</td>\n",
       "    </tr>\n",
       "  </tbody>\n",
       "</table>\n",
       "</div>"
      ],
      "text/plain": [
       "    store_nbr           city                           state type  cluster\n",
       "7           8          Quito                       Pichincha    D        8\n",
       "18         19       Guaranda                         Bolivar    C       15\n",
       "4           5  Santo Domingo  Santo Domingo de los Tsachilas    D        4\n",
       "28         29      Guayaquil                          Guayas    E       10\n",
       "53         54      El Carmen                          Manabi    C        3"
      ]
     },
     "execution_count": 13,
     "metadata": {},
     "output_type": "execute_result"
    }
   ],
   "source": [
    "dataframes['stores'].sample(5)"
   ]
  },
  {
   "cell_type": "code",
   "execution_count": 14,
   "id": "513f8b00",
   "metadata": {},
   "outputs": [
    {
     "data": {
      "text/html": [
       "<div>\n",
       "<style scoped>\n",
       "    .dataframe tbody tr th:only-of-type {\n",
       "        vertical-align: middle;\n",
       "    }\n",
       "\n",
       "    .dataframe tbody tr th {\n",
       "        vertical-align: top;\n",
       "    }\n",
       "\n",
       "    .dataframe thead th {\n",
       "        text-align: right;\n",
       "    }\n",
       "</style>\n",
       "<table border=\"1\" class=\"dataframe\">\n",
       "  <thead>\n",
       "    <tr style=\"text-align: right;\">\n",
       "      <th></th>\n",
       "      <th>date</th>\n",
       "      <th>store_nbr</th>\n",
       "      <th>transactions</th>\n",
       "    </tr>\n",
       "  </thead>\n",
       "  <tbody>\n",
       "    <tr>\n",
       "      <th>50651</th>\n",
       "      <td>2015-11-28</td>\n",
       "      <td>9</td>\n",
       "      <td>2087</td>\n",
       "    </tr>\n",
       "    <tr>\n",
       "      <th>60669</th>\n",
       "      <td>2016-06-08</td>\n",
       "      <td>15</td>\n",
       "      <td>1334</td>\n",
       "    </tr>\n",
       "    <tr>\n",
       "      <th>15961</th>\n",
       "      <td>2013-12-10</td>\n",
       "      <td>46</td>\n",
       "      <td>3234</td>\n",
       "    </tr>\n",
       "    <tr>\n",
       "      <th>32025</th>\n",
       "      <td>2014-11-18</td>\n",
       "      <td>49</td>\n",
       "      <td>2200</td>\n",
       "    </tr>\n",
       "    <tr>\n",
       "      <th>77837</th>\n",
       "      <td>2017-05-03</td>\n",
       "      <td>20</td>\n",
       "      <td>1420</td>\n",
       "    </tr>\n",
       "  </tbody>\n",
       "</table>\n",
       "</div>"
      ],
      "text/plain": [
       "            date  store_nbr  transactions\n",
       "50651 2015-11-28          9          2087\n",
       "60669 2016-06-08         15          1334\n",
       "15961 2013-12-10         46          3234\n",
       "32025 2014-11-18         49          2200\n",
       "77837 2017-05-03         20          1420"
      ]
     },
     "execution_count": 14,
     "metadata": {},
     "output_type": "execute_result"
    }
   ],
   "source": [
    "dataframes['transactions'].sample(5)"
   ]
  },
  {
   "cell_type": "code",
   "execution_count": 15,
   "id": "6f0e6467",
   "metadata": {},
   "outputs": [
    {
     "name": "stdout",
     "output_type": "stream",
     "text": [
      "Date range of transactions data ranges from 2013-01-01 to 2017-08-15\n"
     ]
    }
   ],
   "source": [
    "min_date = dataframes['transactions']['date'].min()\n",
    "max_date = dataframes['transactions']['date'].max()\n",
    "\n",
    "min_date_str = min_date.strftime('%Y-%m-%d')\n",
    "max_date_str = max_date.strftime('%Y-%m-%d')\n",
    "\n",
    "print(f'Date range of transactions data ranges from {min_date_str} to {max_date_str}')"
   ]
  },
  {
   "cell_type": "markdown",
   "id": "6526c78e",
   "metadata": {},
   "source": [
    "<b>Train Dataframe Metadata</b>\n",
    "1. store_nbr - identifies the store at which the products are sold.\n",
    "2. family - identifies the type of product sold.\n",
    "3. sales - gives the total sales for a product family at a particular store at a given date.\n",
    "4. onpromotion gives the total number of items in a product family that were being promoted at a store at a given date."
   ]
  },
  {
   "cell_type": "code",
   "execution_count": 16,
   "id": "33b95d8b",
   "metadata": {},
   "outputs": [
    {
     "data": {
      "text/html": [
       "<div>\n",
       "<style scoped>\n",
       "    .dataframe tbody tr th:only-of-type {\n",
       "        vertical-align: middle;\n",
       "    }\n",
       "\n",
       "    .dataframe tbody tr th {\n",
       "        vertical-align: top;\n",
       "    }\n",
       "\n",
       "    .dataframe thead th {\n",
       "        text-align: right;\n",
       "    }\n",
       "</style>\n",
       "<table border=\"1\" class=\"dataframe\">\n",
       "  <thead>\n",
       "    <tr style=\"text-align: right;\">\n",
       "      <th></th>\n",
       "      <th>id</th>\n",
       "      <th>date</th>\n",
       "      <th>store_nbr</th>\n",
       "      <th>family</th>\n",
       "      <th>sales</th>\n",
       "      <th>onpromotion</th>\n",
       "    </tr>\n",
       "  </thead>\n",
       "  <tbody>\n",
       "    <tr>\n",
       "      <th>825506</th>\n",
       "      <td>825506</td>\n",
       "      <td>2014-04-10</td>\n",
       "      <td>21</td>\n",
       "      <td>FROZEN FOODS</td>\n",
       "      <td>0.0</td>\n",
       "      <td>0</td>\n",
       "    </tr>\n",
       "    <tr>\n",
       "      <th>2314778</th>\n",
       "      <td>2314778</td>\n",
       "      <td>2016-07-25</td>\n",
       "      <td>8</td>\n",
       "      <td>PET SUPPLIES</td>\n",
       "      <td>16.0</td>\n",
       "      <td>0</td>\n",
       "    </tr>\n",
       "    <tr>\n",
       "      <th>1269758</th>\n",
       "      <td>1269758</td>\n",
       "      <td>2014-12-15</td>\n",
       "      <td>36</td>\n",
       "      <td>HOME APPLIANCES</td>\n",
       "      <td>0.0</td>\n",
       "      <td>0</td>\n",
       "    </tr>\n",
       "    <tr>\n",
       "      <th>1136834</th>\n",
       "      <td>1136834</td>\n",
       "      <td>2014-10-01</td>\n",
       "      <td>7</td>\n",
       "      <td>HOME APPLIANCES</td>\n",
       "      <td>1.0</td>\n",
       "      <td>0</td>\n",
       "    </tr>\n",
       "    <tr>\n",
       "      <th>1310753</th>\n",
       "      <td>1310753</td>\n",
       "      <td>2015-01-08</td>\n",
       "      <td>36</td>\n",
       "      <td>PET SUPPLIES</td>\n",
       "      <td>0.0</td>\n",
       "      <td>0</td>\n",
       "    </tr>\n",
       "  </tbody>\n",
       "</table>\n",
       "</div>"
      ],
      "text/plain": [
       "              id       date  store_nbr           family  sales  onpromotion\n",
       "825506    825506 2014-04-10         21     FROZEN FOODS    0.0            0\n",
       "2314778  2314778 2016-07-25          8     PET SUPPLIES   16.0            0\n",
       "1269758  1269758 2014-12-15         36  HOME APPLIANCES    0.0            0\n",
       "1136834  1136834 2014-10-01          7  HOME APPLIANCES    1.0            0\n",
       "1310753  1310753 2015-01-08         36     PET SUPPLIES    0.0            0"
      ]
     },
     "execution_count": 16,
     "metadata": {},
     "output_type": "execute_result"
    }
   ],
   "source": [
    "dataframes['train'].sample(5)"
   ]
  },
  {
   "cell_type": "code",
   "execution_count": 17,
   "id": "e859a776",
   "metadata": {},
   "outputs": [
    {
     "name": "stdout",
     "output_type": "stream",
     "text": [
      "Date range of train data ranges from 2013-01-01 to 2017-08-15\n"
     ]
    }
   ],
   "source": [
    "min_date = dataframes['train']['date'].min()\n",
    "max_date = dataframes['train']['date'].max()\n",
    "\n",
    "min_date_str = min_date.strftime('%Y-%m-%d')\n",
    "max_date_str = max_date.strftime('%Y-%m-%d')\n",
    "\n",
    "print(f'Date range of train data ranges from {min_date_str} to {max_date_str}')"
   ]
  },
  {
   "cell_type": "code",
   "execution_count": 18,
   "id": "aa6edc0f",
   "metadata": {},
   "outputs": [
    {
     "data": {
      "text/plain": [
       "(3000888, 6)"
      ]
     },
     "execution_count": 18,
     "metadata": {},
     "output_type": "execute_result"
    }
   ],
   "source": [
    "dataframes['train'].shape"
   ]
  },
  {
   "cell_type": "markdown",
   "id": "df17a828",
   "metadata": {},
   "source": []
  },
  {
   "cell_type": "markdown",
   "id": "a3fc14cf",
   "metadata": {},
   "source": [
    "## STORE ANALYSIS"
   ]
  },
  {
   "cell_type": "code",
   "execution_count": 19,
   "id": "30793bc9",
   "metadata": {},
   "outputs": [
    {
     "data": {
      "text/html": [
       "<div>\n",
       "<style scoped>\n",
       "    .dataframe tbody tr th:only-of-type {\n",
       "        vertical-align: middle;\n",
       "    }\n",
       "\n",
       "    .dataframe tbody tr th {\n",
       "        vertical-align: top;\n",
       "    }\n",
       "\n",
       "    .dataframe thead th {\n",
       "        text-align: right;\n",
       "    }\n",
       "</style>\n",
       "<table border=\"1\" class=\"dataframe\">\n",
       "  <thead>\n",
       "    <tr style=\"text-align: right;\">\n",
       "      <th></th>\n",
       "      <th>store_nbr</th>\n",
       "      <th>city</th>\n",
       "      <th>state</th>\n",
       "      <th>type</th>\n",
       "      <th>cluster</th>\n",
       "    </tr>\n",
       "  </thead>\n",
       "  <tbody>\n",
       "    <tr>\n",
       "      <th>34</th>\n",
       "      <td>35</td>\n",
       "      <td>Playas</td>\n",
       "      <td>Guayas</td>\n",
       "      <td>C</td>\n",
       "      <td>3</td>\n",
       "    </tr>\n",
       "    <tr>\n",
       "      <th>29</th>\n",
       "      <td>30</td>\n",
       "      <td>Guayaquil</td>\n",
       "      <td>Guayas</td>\n",
       "      <td>C</td>\n",
       "      <td>3</td>\n",
       "    </tr>\n",
       "    <tr>\n",
       "      <th>5</th>\n",
       "      <td>6</td>\n",
       "      <td>Quito</td>\n",
       "      <td>Pichincha</td>\n",
       "      <td>D</td>\n",
       "      <td>13</td>\n",
       "    </tr>\n",
       "    <tr>\n",
       "      <th>45</th>\n",
       "      <td>46</td>\n",
       "      <td>Quito</td>\n",
       "      <td>Pichincha</td>\n",
       "      <td>A</td>\n",
       "      <td>14</td>\n",
       "    </tr>\n",
       "  </tbody>\n",
       "</table>\n",
       "</div>"
      ],
      "text/plain": [
       "    store_nbr       city      state type  cluster\n",
       "34         35     Playas     Guayas    C        3\n",
       "29         30  Guayaquil     Guayas    C        3\n",
       "5           6      Quito  Pichincha    D       13\n",
       "45         46      Quito  Pichincha    A       14"
      ]
     },
     "execution_count": 19,
     "metadata": {},
     "output_type": "execute_result"
    }
   ],
   "source": [
    "dataframes['stores'].sample(4)"
   ]
  },
  {
   "cell_type": "code",
   "execution_count": 20,
   "id": "e79289f6",
   "metadata": {},
   "outputs": [
    {
     "data": {
      "text/plain": [
       "Index(['store_nbr', 'city', 'state', 'type', 'cluster'], dtype='object')"
      ]
     },
     "execution_count": 20,
     "metadata": {},
     "output_type": "execute_result"
    }
   ],
   "source": [
    "dataframes['stores'].columns"
   ]
  },
  {
   "cell_type": "code",
   "execution_count": 21,
   "id": "6b34e15d",
   "metadata": {},
   "outputs": [
    {
     "data": {
      "text/plain": [
       "(54, 5)"
      ]
     },
     "execution_count": 21,
     "metadata": {},
     "output_type": "execute_result"
    }
   ],
   "source": [
    "dataframes['stores'].shape"
   ]
  },
  {
   "cell_type": "code",
   "execution_count": 22,
   "id": "48072c32",
   "metadata": {},
   "outputs": [
    {
     "name": "stdout",
     "output_type": "stream",
     "text": [
      "<class 'pandas.core.frame.DataFrame'>\n",
      "RangeIndex: 54 entries, 0 to 53\n",
      "Data columns (total 5 columns):\n",
      " #   Column     Non-Null Count  Dtype \n",
      "---  ------     --------------  ----- \n",
      " 0   store_nbr  54 non-null     int64 \n",
      " 1   city       54 non-null     object\n",
      " 2   state      54 non-null     object\n",
      " 3   type       54 non-null     object\n",
      " 4   cluster    54 non-null     int64 \n",
      "dtypes: int64(2), object(3)\n",
      "memory usage: 2.2+ KB\n"
     ]
    }
   ],
   "source": [
    "dataframes['stores'].info()"
   ]
  },
  {
   "cell_type": "markdown",
   "id": "bff1f59c",
   "metadata": {},
   "source": [
    "#### Check if any NULL Value is present"
   ]
  },
  {
   "cell_type": "code",
   "execution_count": 23,
   "id": "4465746d",
   "metadata": {},
   "outputs": [
    {
     "data": {
      "text/plain": [
       "store_nbr    0\n",
       "city         0\n",
       "state        0\n",
       "type         0\n",
       "cluster      0\n",
       "dtype: int64"
      ]
     },
     "execution_count": 23,
     "metadata": {},
     "output_type": "execute_result"
    }
   ],
   "source": [
    "dataframes['stores'].isnull().sum()"
   ]
  },
  {
   "cell_type": "markdown",
   "id": "1cf0ca46",
   "metadata": {},
   "source": [
    "#### Q. Which type has most number of stores"
   ]
  },
  {
   "cell_type": "code",
   "execution_count": 24,
   "id": "11753d1a",
   "metadata": {},
   "outputs": [
    {
     "data": {
      "text/plain": [
       "D    18\n",
       "C    15\n",
       "A     9\n",
       "B     8\n",
       "E     4\n",
       "Name: type, dtype: int64"
      ]
     },
     "execution_count": 24,
     "metadata": {},
     "output_type": "execute_result"
    }
   ],
   "source": [
    "#Q. Which type has most number of stores\n",
    "dataframes['stores']['type'].value_counts()"
   ]
  },
  {
   "cell_type": "markdown",
   "id": "7190dd90",
   "metadata": {},
   "source": [
    "#### Q. Top 5 city having most number of stores"
   ]
  },
  {
   "cell_type": "code",
   "execution_count": 25,
   "id": "e98bb567",
   "metadata": {},
   "outputs": [
    {
     "data": {
      "text/plain": [
       "Quito            18\n",
       "Guayaquil         8\n",
       "Cuenca            3\n",
       "Santo Domingo     3\n",
       "Manta             2\n",
       "Name: city, dtype: int64"
      ]
     },
     "execution_count": 25,
     "metadata": {},
     "output_type": "execute_result"
    }
   ],
   "source": [
    "#Q. Top 5 city having most number of stores\n",
    "dataframes['stores']['city'].value_counts()[:5]"
   ]
  },
  {
   "cell_type": "markdown",
   "id": "9ed99463",
   "metadata": {},
   "source": [
    "### Q. Top 5 states the most number of stores"
   ]
  },
  {
   "cell_type": "code",
   "execution_count": 26,
   "id": "043fbadb",
   "metadata": {},
   "outputs": [
    {
     "data": {
      "text/plain": [
       "Pichincha                         19\n",
       "Guayas                            11\n",
       "Santo Domingo de los Tsachilas     3\n",
       "Azuay                              3\n",
       "Manabi                             3\n",
       "Name: state, dtype: int64"
      ]
     },
     "execution_count": 26,
     "metadata": {},
     "output_type": "execute_result"
    }
   ],
   "source": [
    "#Q. Top 5 states the most number of stores\n",
    "dataframes['stores']['state'].value_counts()[:5]"
   ]
  },
  {
   "cell_type": "code",
   "execution_count": 27,
   "id": "1fa57ef8",
   "metadata": {},
   "outputs": [],
   "source": [
    "cluster_list = list(dataframes['stores']['cluster'].unique())\n",
    "cluster_list.sort()"
   ]
  },
  {
   "cell_type": "code",
   "execution_count": 28,
   "id": "b7ac4b1c",
   "metadata": {},
   "outputs": [
    {
     "data": {
      "text/plain": [
       "[1, 2, 3, 4, 5, 6, 7, 8, 9, 10, 11, 12, 13, 14, 15, 16, 17]"
      ]
     },
     "execution_count": 28,
     "metadata": {},
     "output_type": "execute_result"
    }
   ],
   "source": [
    "cluster_list"
   ]
  },
  {
   "cell_type": "code",
   "execution_count": 29,
   "id": "39976e72",
   "metadata": {},
   "outputs": [],
   "source": [
    "#Make a pivot table and analyse type and city.\n",
    "pivot_type_city_df = pd.pivot_table(dataframes['stores'],\n",
    "                                    values='store_nbr',\n",
    "                                   columns='type',\n",
    "                                    index='city',\n",
    "                                   aggfunc='count')"
   ]
  },
  {
   "cell_type": "code",
   "execution_count": 30,
   "id": "ddd39a42",
   "metadata": {},
   "outputs": [
    {
     "data": {
      "text/html": [
       "<div>\n",
       "<style scoped>\n",
       "    .dataframe tbody tr th:only-of-type {\n",
       "        vertical-align: middle;\n",
       "    }\n",
       "\n",
       "    .dataframe tbody tr th {\n",
       "        vertical-align: top;\n",
       "    }\n",
       "\n",
       "    .dataframe thead th {\n",
       "        text-align: right;\n",
       "    }\n",
       "</style>\n",
       "<table border=\"1\" class=\"dataframe\">\n",
       "  <thead>\n",
       "    <tr style=\"text-align: right;\">\n",
       "      <th>type</th>\n",
       "      <th>A</th>\n",
       "      <th>B</th>\n",
       "      <th>C</th>\n",
       "      <th>D</th>\n",
       "      <th>E</th>\n",
       "    </tr>\n",
       "    <tr>\n",
       "      <th>city</th>\n",
       "      <th></th>\n",
       "      <th></th>\n",
       "      <th></th>\n",
       "      <th></th>\n",
       "      <th></th>\n",
       "    </tr>\n",
       "  </thead>\n",
       "  <tbody>\n",
       "    <tr>\n",
       "      <th>Ambato</th>\n",
       "      <td>1.0</td>\n",
       "      <td>NaN</td>\n",
       "      <td>NaN</td>\n",
       "      <td>1.0</td>\n",
       "      <td>NaN</td>\n",
       "    </tr>\n",
       "    <tr>\n",
       "      <th>Babahoyo</th>\n",
       "      <td>NaN</td>\n",
       "      <td>1.0</td>\n",
       "      <td>NaN</td>\n",
       "      <td>NaN</td>\n",
       "      <td>NaN</td>\n",
       "    </tr>\n",
       "    <tr>\n",
       "      <th>Cayambe</th>\n",
       "      <td>NaN</td>\n",
       "      <td>1.0</td>\n",
       "      <td>NaN</td>\n",
       "      <td>NaN</td>\n",
       "      <td>NaN</td>\n",
       "    </tr>\n",
       "    <tr>\n",
       "      <th>Cuenca</th>\n",
       "      <td>NaN</td>\n",
       "      <td>1.0</td>\n",
       "      <td>NaN</td>\n",
       "      <td>2.0</td>\n",
       "      <td>NaN</td>\n",
       "    </tr>\n",
       "    <tr>\n",
       "      <th>Daule</th>\n",
       "      <td>NaN</td>\n",
       "      <td>NaN</td>\n",
       "      <td>NaN</td>\n",
       "      <td>1.0</td>\n",
       "      <td>NaN</td>\n",
       "    </tr>\n",
       "    <tr>\n",
       "      <th>El Carmen</th>\n",
       "      <td>NaN</td>\n",
       "      <td>NaN</td>\n",
       "      <td>1.0</td>\n",
       "      <td>NaN</td>\n",
       "      <td>NaN</td>\n",
       "    </tr>\n",
       "    <tr>\n",
       "      <th>Esmeraldas</th>\n",
       "      <td>NaN</td>\n",
       "      <td>NaN</td>\n",
       "      <td>NaN</td>\n",
       "      <td>NaN</td>\n",
       "      <td>1.0</td>\n",
       "    </tr>\n",
       "    <tr>\n",
       "      <th>Guaranda</th>\n",
       "      <td>NaN</td>\n",
       "      <td>NaN</td>\n",
       "      <td>1.0</td>\n",
       "      <td>NaN</td>\n",
       "      <td>NaN</td>\n",
       "    </tr>\n",
       "    <tr>\n",
       "      <th>Guayaquil</th>\n",
       "      <td>1.0</td>\n",
       "      <td>1.0</td>\n",
       "      <td>2.0</td>\n",
       "      <td>2.0</td>\n",
       "      <td>2.0</td>\n",
       "    </tr>\n",
       "    <tr>\n",
       "      <th>Ibarra</th>\n",
       "      <td>NaN</td>\n",
       "      <td>NaN</td>\n",
       "      <td>1.0</td>\n",
       "      <td>NaN</td>\n",
       "      <td>NaN</td>\n",
       "    </tr>\n",
       "    <tr>\n",
       "      <th>Latacunga</th>\n",
       "      <td>NaN</td>\n",
       "      <td>NaN</td>\n",
       "      <td>2.0</td>\n",
       "      <td>NaN</td>\n",
       "      <td>NaN</td>\n",
       "    </tr>\n",
       "    <tr>\n",
       "      <th>Libertad</th>\n",
       "      <td>NaN</td>\n",
       "      <td>NaN</td>\n",
       "      <td>NaN</td>\n",
       "      <td>NaN</td>\n",
       "      <td>1.0</td>\n",
       "    </tr>\n",
       "    <tr>\n",
       "      <th>Loja</th>\n",
       "      <td>NaN</td>\n",
       "      <td>NaN</td>\n",
       "      <td>NaN</td>\n",
       "      <td>1.0</td>\n",
       "      <td>NaN</td>\n",
       "    </tr>\n",
       "    <tr>\n",
       "      <th>Machala</th>\n",
       "      <td>NaN</td>\n",
       "      <td>NaN</td>\n",
       "      <td>1.0</td>\n",
       "      <td>1.0</td>\n",
       "      <td>NaN</td>\n",
       "    </tr>\n",
       "    <tr>\n",
       "      <th>Manta</th>\n",
       "      <td>1.0</td>\n",
       "      <td>NaN</td>\n",
       "      <td>NaN</td>\n",
       "      <td>1.0</td>\n",
       "      <td>NaN</td>\n",
       "    </tr>\n",
       "    <tr>\n",
       "      <th>Playas</th>\n",
       "      <td>NaN</td>\n",
       "      <td>NaN</td>\n",
       "      <td>1.0</td>\n",
       "      <td>NaN</td>\n",
       "      <td>NaN</td>\n",
       "    </tr>\n",
       "    <tr>\n",
       "      <th>Puyo</th>\n",
       "      <td>NaN</td>\n",
       "      <td>NaN</td>\n",
       "      <td>1.0</td>\n",
       "      <td>NaN</td>\n",
       "      <td>NaN</td>\n",
       "    </tr>\n",
       "    <tr>\n",
       "      <th>Quevedo</th>\n",
       "      <td>NaN</td>\n",
       "      <td>NaN</td>\n",
       "      <td>1.0</td>\n",
       "      <td>NaN</td>\n",
       "      <td>NaN</td>\n",
       "    </tr>\n",
       "    <tr>\n",
       "      <th>Quito</th>\n",
       "      <td>6.0</td>\n",
       "      <td>3.0</td>\n",
       "      <td>2.0</td>\n",
       "      <td>7.0</td>\n",
       "      <td>NaN</td>\n",
       "    </tr>\n",
       "    <tr>\n",
       "      <th>Riobamba</th>\n",
       "      <td>NaN</td>\n",
       "      <td>NaN</td>\n",
       "      <td>1.0</td>\n",
       "      <td>NaN</td>\n",
       "      <td>NaN</td>\n",
       "    </tr>\n",
       "    <tr>\n",
       "      <th>Salinas</th>\n",
       "      <td>NaN</td>\n",
       "      <td>NaN</td>\n",
       "      <td>NaN</td>\n",
       "      <td>1.0</td>\n",
       "      <td>NaN</td>\n",
       "    </tr>\n",
       "    <tr>\n",
       "      <th>Santo Domingo</th>\n",
       "      <td>NaN</td>\n",
       "      <td>1.0</td>\n",
       "      <td>1.0</td>\n",
       "      <td>1.0</td>\n",
       "      <td>NaN</td>\n",
       "    </tr>\n",
       "  </tbody>\n",
       "</table>\n",
       "</div>"
      ],
      "text/plain": [
       "type             A    B    C    D    E\n",
       "city                                  \n",
       "Ambato         1.0  NaN  NaN  1.0  NaN\n",
       "Babahoyo       NaN  1.0  NaN  NaN  NaN\n",
       "Cayambe        NaN  1.0  NaN  NaN  NaN\n",
       "Cuenca         NaN  1.0  NaN  2.0  NaN\n",
       "Daule          NaN  NaN  NaN  1.0  NaN\n",
       "El Carmen      NaN  NaN  1.0  NaN  NaN\n",
       "Esmeraldas     NaN  NaN  NaN  NaN  1.0\n",
       "Guaranda       NaN  NaN  1.0  NaN  NaN\n",
       "Guayaquil      1.0  1.0  2.0  2.0  2.0\n",
       "Ibarra         NaN  NaN  1.0  NaN  NaN\n",
       "Latacunga      NaN  NaN  2.0  NaN  NaN\n",
       "Libertad       NaN  NaN  NaN  NaN  1.0\n",
       "Loja           NaN  NaN  NaN  1.0  NaN\n",
       "Machala        NaN  NaN  1.0  1.0  NaN\n",
       "Manta          1.0  NaN  NaN  1.0  NaN\n",
       "Playas         NaN  NaN  1.0  NaN  NaN\n",
       "Puyo           NaN  NaN  1.0  NaN  NaN\n",
       "Quevedo        NaN  NaN  1.0  NaN  NaN\n",
       "Quito          6.0  3.0  2.0  7.0  NaN\n",
       "Riobamba       NaN  NaN  1.0  NaN  NaN\n",
       "Salinas        NaN  NaN  NaN  1.0  NaN\n",
       "Santo Domingo  NaN  1.0  1.0  1.0  NaN"
      ]
     },
     "execution_count": 30,
     "metadata": {},
     "output_type": "execute_result"
    }
   ],
   "source": [
    "pivot_type_city_df"
   ]
  },
  {
   "cell_type": "code",
   "execution_count": null,
   "id": "c9d13eec",
   "metadata": {},
   "outputs": [],
   "source": []
  },
  {
   "cell_type": "code",
   "execution_count": null,
   "id": "c1812ca2",
   "metadata": {},
   "outputs": [],
   "source": []
  },
  {
   "cell_type": "markdown",
   "id": "dd2c3653",
   "metadata": {},
   "source": [
    "## OIL ANALYSIS"
   ]
  },
  {
   "cell_type": "code",
   "execution_count": 31,
   "id": "be83796d",
   "metadata": {},
   "outputs": [],
   "source": [
    "#Setting the index as date\n",
    "dataframes['oil'].set_index('date',inplace=True)"
   ]
  },
  {
   "cell_type": "code",
   "execution_count": 53,
   "id": "3b7148a3",
   "metadata": {},
   "outputs": [
    {
     "data": {
      "text/plain": [
       "'B'"
      ]
     },
     "execution_count": 53,
     "metadata": {},
     "output_type": "execute_result"
    }
   ],
   "source": [
    "pd.infer_freq(dataframes['oil'].index)"
   ]
  },
  {
   "cell_type": "markdown",
   "id": "c4afee7b",
   "metadata": {},
   "source": [
    "In the context of time series data, the output \"B\" from pd.infer_freq(dataframes['oil'].index) stands for \"business day frequency.\"\n",
    "\n",
    "A business day frequency means that the data points in the time series are observed on each business day (Monday to Friday) and exclude weekends and holidays. It implies that the data is regularly spaced with a frequency of one business day."
   ]
  },
  {
   "cell_type": "code",
   "execution_count": 32,
   "id": "23dc9cbc",
   "metadata": {},
   "outputs": [
    {
     "data": {
      "text/plain": [
       "<Axes: xlabel='date'>"
      ]
     },
     "execution_count": 32,
     "metadata": {},
     "output_type": "execute_result"
    },
    {
     "data": {
      "image/png": "[encoded data removed]",
      "text/plain": [
       "<Figure size 640x480 with 1 Axes>"
      ]
     },
     "metadata": {},
     "output_type": "display_data"
    }
   ],
   "source": [
    "dataframes['oil'].plot()"
   ]
  },
  {
   "cell_type": "markdown",
   "id": "0d9aa1f3",
   "metadata": {},
   "source": [
    "#### We can see Oil Price significantly dropped in year 2015.\n",
    "#### As we know that a magnitude 7.8 earthquake struck Ecuador on April 16, 2016, So we going to closely watch the Oil Price in year 2016"
   ]
  },
  {
   "cell_type": "code",
   "execution_count": 33,
   "id": "32d2c4b6",
   "metadata": {},
   "outputs": [],
   "source": [
    "start_date = pd.to_datetime('2016-01-01')\n",
    "end_date = pd.to_datetime('2016-12-31')"
   ]
  },
  {
   "cell_type": "code",
   "execution_count": 34,
   "id": "47ab3829",
   "metadata": {},
   "outputs": [
    {
     "data": {
      "text/plain": [
       "<Axes: xlabel='date'>"
      ]
     },
     "execution_count": 34,
     "metadata": {},
     "output_type": "execute_result"
    },
    {
     "data": {
      "image/png": "[encoded data removed]",
      "text/plain": [
       "<Figure size 640x480 with 1 Axes>"
      ]
     },
     "metadata": {},
     "output_type": "display_data"
    }
   ],
   "source": [
    "dataframes['oil'][start_date:end_date].plot()"
   ]
  },
  {
   "cell_type": "code",
   "execution_count": 35,
   "id": "a5b04b67",
   "metadata": {},
   "outputs": [],
   "source": [
    "#### Let's observe April 2016 Closely\n",
    "start_date = pd.to_datetime('2016-04-01')\n",
    "end_date = pd.to_datetime('2016-04-30')"
   ]
  },
  {
   "cell_type": "code",
   "execution_count": 36,
   "id": "5dfa3716",
   "metadata": {},
   "outputs": [
    {
     "data": {
      "text/plain": [
       "<Axes: xlabel='date'>"
      ]
     },
     "execution_count": 36,
     "metadata": {},
     "output_type": "execute_result"
    },
    {
     "data": {
      "image/png": "[encoded data removed]",
      "text/plain": [
       "<Figure size 640x480 with 1 Axes>"
      ]
     },
     "metadata": {},
     "output_type": "display_data"
    }
   ],
   "source": [
    "dataframes['oil'][start_date:end_date].plot()"
   ]
  },
  {
   "cell_type": "code",
   "execution_count": 37,
   "id": "0a8a602f",
   "metadata": {},
   "outputs": [
    {
     "data": {
      "text/plain": [
       "Index(['dcoilwtico'], dtype='object')"
      ]
     },
     "execution_count": 37,
     "metadata": {},
     "output_type": "execute_result"
    }
   ],
   "source": [
    "dataframes['oil'].columns"
   ]
  },
  {
   "cell_type": "code",
   "execution_count": 38,
   "id": "7d1d7ea7",
   "metadata": {},
   "outputs": [],
   "source": [
    "dataframes['oil'].rename(columns={'dcoilwtico':'oil_price'},inplace=True)"
   ]
  },
  {
   "cell_type": "code",
   "execution_count": 39,
   "id": "65ddfa7d",
   "metadata": {},
   "outputs": [],
   "source": [
    "#Plot month vs year graph\n",
    "dataframes['oil']['month'] = dataframes['oil'].index.month\n",
    "dataframes['oil']['year'] = dataframes['oil'].index.year"
   ]
  },
  {
   "cell_type": "code",
   "execution_count": 40,
   "id": "4c612011",
   "metadata": {},
   "outputs": [],
   "source": [
    "month_vs_year_sales_df = pd.pivot_table(dataframes['oil'],\n",
    "                                        values='oil_price',\n",
    "                                       columns='year',\n",
    "                                       index='month',\n",
    "                                       aggfunc='sum')"
   ]
  },
  {
   "cell_type": "code",
   "execution_count": 41,
   "id": "027df02e",
   "metadata": {},
   "outputs": [
    {
     "data": {
      "text/html": [
       "<div>\n",
       "<style scoped>\n",
       "    .dataframe tbody tr th:only-of-type {\n",
       "        vertical-align: middle;\n",
       "    }\n",
       "\n",
       "    .dataframe tbody tr th {\n",
       "        vertical-align: top;\n",
       "    }\n",
       "\n",
       "    .dataframe thead th {\n",
       "        text-align: right;\n",
       "    }\n",
       "</style>\n",
       "<table border=\"1\" class=\"dataframe\">\n",
       "  <thead>\n",
       "    <tr style=\"text-align: right;\">\n",
       "      <th>year</th>\n",
       "      <th>2013</th>\n",
       "      <th>2014</th>\n",
       "      <th>2015</th>\n",
       "      <th>2016</th>\n",
       "      <th>2017</th>\n",
       "    </tr>\n",
       "    <tr>\n",
       "      <th>month</th>\n",
       "      <th></th>\n",
       "      <th></th>\n",
       "      <th></th>\n",
       "      <th></th>\n",
       "      <th></th>\n",
       "    </tr>\n",
       "  </thead>\n",
       "  <tbody>\n",
       "    <tr>\n",
       "      <th>1</th>\n",
       "      <td>1989.89</td>\n",
       "      <td>1986.96</td>\n",
       "      <td>944.38</td>\n",
       "      <td>601.98</td>\n",
       "      <td>1050.08</td>\n",
       "    </tr>\n",
       "    <tr>\n",
       "      <th>2</th>\n",
       "      <td>1810.87</td>\n",
       "      <td>1915.53</td>\n",
       "      <td>961.10</td>\n",
       "      <td>606.46</td>\n",
       "      <td>1015.90</td>\n",
       "    </tr>\n",
       "    <tr>\n",
       "      <th>3</th>\n",
       "      <td>1858.77</td>\n",
       "      <td>2116.88</td>\n",
       "      <td>1052.12</td>\n",
       "      <td>826.02</td>\n",
       "      <td>1134.54</td>\n",
       "    </tr>\n",
       "    <tr>\n",
       "      <th>4</th>\n",
       "      <td>2024.47</td>\n",
       "      <td>2143.45</td>\n",
       "      <td>1143.51</td>\n",
       "      <td>855.86</td>\n",
       "      <td>970.15</td>\n",
       "    </tr>\n",
       "    <tr>\n",
       "      <th>5</th>\n",
       "      <td>2079.21</td>\n",
       "      <td>2145.72</td>\n",
       "      <td>1185.30</td>\n",
       "      <td>980.96</td>\n",
       "      <td>1066.48</td>\n",
       "    </tr>\n",
       "    <tr>\n",
       "      <th>6</th>\n",
       "      <td>1915.45</td>\n",
       "      <td>2221.68</td>\n",
       "      <td>1316.03</td>\n",
       "      <td>1072.66</td>\n",
       "      <td>993.91</td>\n",
       "    </tr>\n",
       "    <tr>\n",
       "      <th>7</th>\n",
       "      <td>2302.76</td>\n",
       "      <td>2278.95</td>\n",
       "      <td>1119.82</td>\n",
       "      <td>893.03</td>\n",
       "      <td>885.98</td>\n",
       "    </tr>\n",
       "    <tr>\n",
       "      <th>8</th>\n",
       "      <td>2344.60</td>\n",
       "      <td>2027.26</td>\n",
       "      <td>900.22</td>\n",
       "      <td>1028.66</td>\n",
       "      <td>1104.85</td>\n",
       "    </tr>\n",
       "    <tr>\n",
       "      <th>9</th>\n",
       "      <td>2125.79</td>\n",
       "      <td>1957.45</td>\n",
       "      <td>955.07</td>\n",
       "      <td>948.83</td>\n",
       "      <td>NaN</td>\n",
       "    </tr>\n",
       "    <tr>\n",
       "      <th>10</th>\n",
       "      <td>2312.38</td>\n",
       "      <td>1941.13</td>\n",
       "      <td>1016.92</td>\n",
       "      <td>1045.28</td>\n",
       "      <td>NaN</td>\n",
       "    </tr>\n",
       "    <tr>\n",
       "      <th>11</th>\n",
       "      <td>1877.28</td>\n",
       "      <td>1440.00</td>\n",
       "      <td>848.87</td>\n",
       "      <td>958.88</td>\n",
       "      <td>NaN</td>\n",
       "    </tr>\n",
       "    <tr>\n",
       "      <th>12</th>\n",
       "      <td>2050.13</td>\n",
       "      <td>1304.39</td>\n",
       "      <td>818.15</td>\n",
       "      <td>1091.38</td>\n",
       "      <td>NaN</td>\n",
       "    </tr>\n",
       "  </tbody>\n",
       "</table>\n",
       "</div>"
      ],
      "text/plain": [
       "year      2013     2014     2015     2016     2017\n",
       "month                                             \n",
       "1      1989.89  1986.96   944.38   601.98  1050.08\n",
       "2      1810.87  1915.53   961.10   606.46  1015.90\n",
       "3      1858.77  2116.88  1052.12   826.02  1134.54\n",
       "4      2024.47  2143.45  1143.51   855.86   970.15\n",
       "5      2079.21  2145.72  1185.30   980.96  1066.48\n",
       "6      1915.45  2221.68  1316.03  1072.66   993.91\n",
       "7      2302.76  2278.95  1119.82   893.03   885.98\n",
       "8      2344.60  2027.26   900.22  1028.66  1104.85\n",
       "9      2125.79  1957.45   955.07   948.83      NaN\n",
       "10     2312.38  1941.13  1016.92  1045.28      NaN\n",
       "11     1877.28  1440.00   848.87   958.88      NaN\n",
       "12     2050.13  1304.39   818.15  1091.38      NaN"
      ]
     },
     "execution_count": 41,
     "metadata": {},
     "output_type": "execute_result"
    }
   ],
   "source": [
    "month_vs_year_sales_df"
   ]
  },
  {
   "cell_type": "code",
   "execution_count": 42,
   "id": "fa6ee7c3",
   "metadata": {},
   "outputs": [
    {
     "data": {
      "image/png": "[encoded data removed]",
      "text/plain": [
       "<Figure size 640x480 with 1 Axes>"
      ]
     },
     "metadata": {},
     "output_type": "display_data"
    }
   ],
   "source": [
    "# Plot the pivot table DataFrame\n",
    "month_vs_year_sales_df.plot()\n",
    "\n",
    "# Set labels and title\n",
    "plt.xlabel('Month')\n",
    "plt.ylabel('Sales')\n",
    "plt.title('Monthly Sales by Year')\n",
    "\n",
    "# Show the plot\n",
    "plt.show()"
   ]
  },
  {
   "cell_type": "code",
   "execution_count": 43,
   "id": "421510fa",
   "metadata": {},
   "outputs": [
    {
     "data": {
      "text/plain": [
       "year\n",
       "2013    97.982540\n",
       "2014    93.172222\n",
       "2015    48.656706\n",
       "2016    43.293651\n",
       "2017    49.232874\n",
       "Name: oil_price, dtype: float64"
      ]
     },
     "execution_count": 43,
     "metadata": {},
     "output_type": "execute_result"
    }
   ],
   "source": [
    "#Mean of sales each year\n",
    "dataframes['oil'].groupby('year')['oil_price'].mean()"
   ]
  },
  {
   "cell_type": "markdown",
   "id": "cead08d1",
   "metadata": {},
   "source": [
    "<p><b>Oil prices were lowest in 2016<b>"
   ]
  },
  {
   "cell_type": "code",
   "execution_count": null,
   "id": "1a06cbee",
   "metadata": {},
   "outputs": [],
   "source": []
  },
  {
   "cell_type": "code",
   "execution_count": null,
   "id": "146f45e8",
   "metadata": {},
   "outputs": [],
   "source": []
  },
  {
   "cell_type": "markdown",
   "id": "002a5e5c",
   "metadata": {},
   "source": [
    "## Train Dataset Analysis"
   ]
  },
  {
   "cell_type": "code",
   "execution_count": 44,
   "id": "78d92e59",
   "metadata": {},
   "outputs": [
    {
     "data": {
      "text/html": [
       "<div>\n",
       "<style scoped>\n",
       "    .dataframe tbody tr th:only-of-type {\n",
       "        vertical-align: middle;\n",
       "    }\n",
       "\n",
       "    .dataframe tbody tr th {\n",
       "        vertical-align: top;\n",
       "    }\n",
       "\n",
       "    .dataframe thead th {\n",
       "        text-align: right;\n",
       "    }\n",
       "</style>\n",
       "<table border=\"1\" class=\"dataframe\">\n",
       "  <thead>\n",
       "    <tr style=\"text-align: right;\">\n",
       "      <th></th>\n",
       "      <th>id</th>\n",
       "      <th>date</th>\n",
       "      <th>store_nbr</th>\n",
       "      <th>family</th>\n",
       "      <th>sales</th>\n",
       "      <th>onpromotion</th>\n",
       "    </tr>\n",
       "  </thead>\n",
       "  <tbody>\n",
       "    <tr>\n",
       "      <th>557709</th>\n",
       "      <td>557709</td>\n",
       "      <td>2013-11-09</td>\n",
       "      <td>8</td>\n",
       "      <td>DELI</td>\n",
       "      <td>367.816000</td>\n",
       "      <td>0</td>\n",
       "    </tr>\n",
       "    <tr>\n",
       "      <th>2158409</th>\n",
       "      <td>2158409</td>\n",
       "      <td>2016-04-29</td>\n",
       "      <td>20</td>\n",
       "      <td>FROZEN FOODS</td>\n",
       "      <td>58.850998</td>\n",
       "      <td>0</td>\n",
       "    </tr>\n",
       "    <tr>\n",
       "      <th>2828286</th>\n",
       "      <td>2828286</td>\n",
       "      <td>2017-05-11</td>\n",
       "      <td>16</td>\n",
       "      <td>LINGERIE</td>\n",
       "      <td>3.000000</td>\n",
       "      <td>0</td>\n",
       "    </tr>\n",
       "    <tr>\n",
       "      <th>1156472</th>\n",
       "      <td>1156472</td>\n",
       "      <td>2014-10-12</td>\n",
       "      <td>8</td>\n",
       "      <td>LAWN AND GARDEN</td>\n",
       "      <td>19.000000</td>\n",
       "      <td>0</td>\n",
       "    </tr>\n",
       "    <tr>\n",
       "      <th>504679</th>\n",
       "      <td>504679</td>\n",
       "      <td>2013-10-11</td>\n",
       "      <td>2</td>\n",
       "      <td>EGGS</td>\n",
       "      <td>175.000000</td>\n",
       "      <td>0</td>\n",
       "    </tr>\n",
       "  </tbody>\n",
       "</table>\n",
       "</div>"
      ],
      "text/plain": [
       "              id       date  store_nbr           family       sales  \\\n",
       "557709    557709 2013-11-09          8             DELI  367.816000   \n",
       "2158409  2158409 2016-04-29         20     FROZEN FOODS   58.850998   \n",
       "2828286  2828286 2017-05-11         16         LINGERIE    3.000000   \n",
       "1156472  1156472 2014-10-12          8  LAWN AND GARDEN   19.000000   \n",
       "504679    504679 2013-10-11          2             EGGS  175.000000   \n",
       "\n",
       "         onpromotion  \n",
       "557709             0  \n",
       "2158409            0  \n",
       "2828286            0  \n",
       "1156472            0  \n",
       "504679             0  "
      ]
     },
     "execution_count": 44,
     "metadata": {},
     "output_type": "execute_result"
    }
   ],
   "source": [
    "dataframes['train'].sample(5)"
   ]
  },
  {
   "cell_type": "code",
   "execution_count": 45,
   "id": "54459d32",
   "metadata": {},
   "outputs": [],
   "source": [
    "dataframes['train']['year'] = dataframes['train']['date'].dt.year\n",
    "dataframes['train']['month'] = dataframes['train']['date'].dt.month"
   ]
  },
  {
   "cell_type": "markdown",
   "id": "ab9d3ef1",
   "metadata": {},
   "source": [
    "#### Mean Sales of each product family"
   ]
  },
  {
   "cell_type": "code",
   "execution_count": 46,
   "id": "72412198",
   "metadata": {},
   "outputs": [
    {
     "data": {
      "text/plain": [
       "family\n",
       "GROCERY I                     3776.972100\n",
       "BEVERAGES                     2385.793151\n",
       "PRODUCE                       1349.352123\n",
       "CLEANING                      1072.416744\n",
       "DAIRY                          709.154889\n",
       "BREAD/BAKERY                   463.336254\n",
       "POULTRY                        350.532292\n",
       "MEATS                          341.849965\n",
       "PERSONAL CARE                  270.432513\n",
       "DELI                           265.135067\n",
       "HOME CARE                      176.198029\n",
       "EGGS                           171.420516\n",
       "FROZEN FOODS                   154.766954\n",
       "PREPARED FOODS                  96.770202\n",
       "LIQUOR,WINE,BEER                85.187824\n",
       "SEAFOOD                         22.163190\n",
       "GROCERY II                      21.584048\n",
       "HOME AND KITCHEN I              20.470342\n",
       "HOME AND KITCHEN II             16.722420\n",
       "CELEBRATION                      8.370469\n",
       "LINGERIE                         7.182128\n",
       "LADIESWEAR                       7.160629\n",
       "PLAYERS AND ELECTRONICS          6.186857\n",
       "AUTOMOTIVE                       6.101236\n",
       "LAWN AND GARDEN                  6.035475\n",
       "PET SUPPLIES                     3.921263\n",
       "BEAUTY                           3.715723\n",
       "SCHOOL AND OFFICE SUPPLIES       2.961599\n",
       "MAGAZINES                        2.929082\n",
       "HARDWARE                         1.137833\n",
       "HOME APPLIANCES                  0.457476\n",
       "BABY CARE                        0.110528\n",
       "BOOKS                            0.070797\n",
       "Name: sales, dtype: float64"
      ]
     },
     "execution_count": 46,
     "metadata": {},
     "output_type": "execute_result"
    }
   ],
   "source": [
    "dataframes['train'].groupby('family')['sales'].mean().sort_values(ascending=False)"
   ]
  },
  {
   "cell_type": "markdown",
   "id": "e4c33128",
   "metadata": {},
   "source": [
    "#### Q. Which produc family was most used during year 2016 (earthquake)"
   ]
  },
  {
   "cell_type": "code",
   "execution_count": 47,
   "id": "53c34b22",
   "metadata": {},
   "outputs": [
    {
     "data": {
      "text/plain": [
       "family\n",
       "AUTOMOTIVE                       6.855150\n",
       "BABY CARE                        0.262100\n",
       "BEAUTY                           5.047083\n",
       "BEVERAGES                     3132.810096\n",
       "BOOKS                            0.208980\n",
       "BREAD/BAKERY                   520.173085\n",
       "CELEBRATION                     14.143024\n",
       "CLEANING                      1148.093709\n",
       "DAIRY                          860.841857\n",
       "DELI                           290.753667\n",
       "EGGS                           184.552308\n",
       "FROZEN FOODS                   178.986219\n",
       "GROCERY I                     4367.657989\n",
       "GROCERY II                      20.830036\n",
       "HARDWARE                         1.216235\n",
       "HOME AND KITCHEN I              29.225317\n",
       "HOME AND KITCHEN II             26.436073\n",
       "HOME APPLIANCES                  0.331456\n",
       "HOME CARE                      285.671892\n",
       "LADIESWEAR                      11.244089\n",
       "LAWN AND GARDEN                  6.017199\n",
       "LINGERIE                         5.566920\n",
       "LIQUOR,WINE,BEER                96.037139\n",
       "MAGAZINES                        6.292694\n",
       "MEATS                          355.683691\n",
       "PERSONAL CARE                  312.736530\n",
       "PET SUPPLIES                     6.595282\n",
       "PLAYERS AND ELECTRONICS          9.932674\n",
       "POULTRY                        383.614503\n",
       "PREPARED FOODS                 104.975873\n",
       "PRODUCE                       2244.956897\n",
       "SCHOOL AND OFFICE SUPPLIES       4.120548\n",
       "SEAFOOD                         23.209489\n",
       "Name: sales, dtype: float64"
      ]
     },
     "execution_count": 47,
     "metadata": {},
     "output_type": "execute_result"
    }
   ],
   "source": [
    "dataframes['train'][ dataframes['train']['year'] == 2016 ].groupby('family')['sales'].mean()"
   ]
  },
  {
   "cell_type": "code",
   "execution_count": 48,
   "id": "bc5d7dfe",
   "metadata": {},
   "outputs": [
    {
     "data": {
      "text/plain": [
       "AUTOMOTIVE                    90936\n",
       "HOME APPLIANCES               90936\n",
       "SCHOOL AND OFFICE SUPPLIES    90936\n",
       "PRODUCE                       90936\n",
       "PREPARED FOODS                90936\n",
       "POULTRY                       90936\n",
       "PLAYERS AND ELECTRONICS       90936\n",
       "PET SUPPLIES                  90936\n",
       "PERSONAL CARE                 90936\n",
       "MEATS                         90936\n",
       "MAGAZINES                     90936\n",
       "LIQUOR,WINE,BEER              90936\n",
       "LINGERIE                      90936\n",
       "LAWN AND GARDEN               90936\n",
       "LADIESWEAR                    90936\n",
       "HOME CARE                     90936\n",
       "HOME AND KITCHEN II           90936\n",
       "BABY CARE                     90936\n",
       "HOME AND KITCHEN I            90936\n",
       "HARDWARE                      90936\n",
       "GROCERY II                    90936\n",
       "GROCERY I                     90936\n",
       "FROZEN FOODS                  90936\n",
       "EGGS                          90936\n",
       "DELI                          90936\n",
       "DAIRY                         90936\n",
       "CLEANING                      90936\n",
       "CELEBRATION                   90936\n",
       "BREAD/BAKERY                  90936\n",
       "BOOKS                         90936\n",
       "BEVERAGES                     90936\n",
       "BEAUTY                        90936\n",
       "SEAFOOD                       90936\n",
       "Name: family, dtype: int64"
      ]
     },
     "execution_count": 48,
     "metadata": {},
     "output_type": "execute_result"
    }
   ],
   "source": [
    "dataframes['train'].family.value_counts()"
   ]
  },
  {
   "cell_type": "markdown",
   "id": "b6c1d46d",
   "metadata": {},
   "source": [
    "#### Sum of Sales of each product family with/without promotion"
   ]
  },
  {
   "cell_type": "code",
   "execution_count": 50,
   "id": "9108d564",
   "metadata": {},
   "outputs": [
    {
     "data": {
      "text/plain": [
       "family      onpromotion\n",
       "AUTOMOTIVE  0              514381.000000\n",
       "            1               25722.000000\n",
       "            2                6875.000000\n",
       "            3                4188.000000\n",
       "            4                1780.000000\n",
       "                               ...      \n",
       "SEAFOOD     3               31079.519019\n",
       "            4               14628.439990\n",
       "            5               24439.898078\n",
       "            6               80369.470981\n",
       "            7              104003.479042\n",
       "Name: sales, Length: 1688, dtype: float64"
      ]
     },
     "execution_count": 50,
     "metadata": {},
     "output_type": "execute_result"
    }
   ],
   "source": [
    "dataframes['train'].groupby(['family','onpromotion'])['sales'].sum()"
   ]
  },
  {
   "cell_type": "code",
   "execution_count": null,
   "id": "16a16a32",
   "metadata": {},
   "outputs": [],
   "source": []
  },
  {
   "cell_type": "code",
   "execution_count": null,
   "id": "0882e462",
   "metadata": {},
   "outputs": [],
   "source": []
  },
  {
   "cell_type": "code",
   "execution_count": null,
   "id": "450359b0",
   "metadata": {},
   "outputs": [],
   "source": []
  },
  {
   "cell_type": "code",
   "execution_count": null,
   "id": "bee7196c",
   "metadata": {},
   "outputs": [],
   "source": []
  },
  {
   "cell_type": "code",
   "execution_count": null,
   "id": "697d407a",
   "metadata": {},
   "outputs": [],
   "source": []
  },
  {
   "cell_type": "code",
   "execution_count": null,
   "id": "0d81f26d",
   "metadata": {},
   "outputs": [],
   "source": []
  },
  {
   "cell_type": "code",
   "execution_count": null,
   "id": "29841275",
   "metadata": {},
   "outputs": [],
   "source": []
  },
  {
   "cell_type": "code",
   "execution_count": null,
   "id": "3159f9dc",
   "metadata": {},
   "outputs": [],
   "source": []
  },
  {
   "cell_type": "code",
   "execution_count": null,
   "id": "826a2b36",
   "metadata": {},
   "outputs": [],
   "source": []
  },
  {
   "cell_type": "code",
   "execution_count": null,
   "id": "c61f33fb",
   "metadata": {},
   "outputs": [],
   "source": []
  },
  {
   "cell_type": "code",
   "execution_count": null,
   "id": "338a359a",
   "metadata": {},
   "outputs": [],
   "source": []
  },
  {
   "cell_type": "code",
   "execution_count": null,
   "id": "001de947",
   "metadata": {},
   "outputs": [],
   "source": []
  },
  {
   "cell_type": "code",
   "execution_count": null,
   "id": "3d83d256",
   "metadata": {},
   "outputs": [],
   "source": []
  },
  {
   "cell_type": "code",
   "execution_count": null,
   "id": "216960d0",
   "metadata": {},
   "outputs": [],
   "source": []
  },
  {
   "cell_type": "code",
   "execution_count": null,
   "id": "2f1b3aa4",
   "metadata": {},
   "outputs": [],
   "source": []
  },
  {
   "cell_type": "code",
   "execution_count": null,
   "id": "e9d1a851",
   "metadata": {},
   "outputs": [],
   "source": []
  },
  {
   "cell_type": "code",
   "execution_count": null,
   "id": "51ca26e0",
   "metadata": {},
   "outputs": [],
   "source": []
  },
  {
   "cell_type": "code",
   "execution_count": null,
   "id": "2bc09f7c",
   "metadata": {},
   "outputs": [],
   "source": []
  },
  {
   "cell_type": "code",
   "execution_count": null,
   "id": "5084e423",
   "metadata": {},
   "outputs": [],
   "source": []
  },
  {
   "cell_type": "code",
   "execution_count": null,
   "id": "7078f352",
   "metadata": {},
   "outputs": [],
   "source": []
  },
  {
   "cell_type": "code",
   "execution_count": null,
   "id": "0ebe83e7",
   "metadata": {},
   "outputs": [],
   "source": []
  },
  {
   "cell_type": "code",
   "execution_count": null,
   "id": "9b8cd467",
   "metadata": {},
   "outputs": [],
   "source": []
  },
  {
   "cell_type": "code",
   "execution_count": null,
   "id": "f479d473",
   "metadata": {},
   "outputs": [],
   "source": []
  },
  {
   "cell_type": "code",
   "execution_count": null,
   "id": "ea1d7f63",
   "metadata": {},
   "outputs": [],
   "source": []
  },
  {
   "cell_type": "code",
   "execution_count": null,
   "id": "7dd5e608",
   "metadata": {},
   "outputs": [],
   "source": []
  },
  {
   "cell_type": "code",
   "execution_count": null,
   "id": "30c5bfa7",
   "metadata": {},
   "outputs": [],
   "source": []
  },
  {
   "cell_type": "code",
   "execution_count": null,
   "id": "4b7e5242",
   "metadata": {},
   "outputs": [],
   "source": []
  },
  {
   "cell_type": "code",
   "execution_count": null,
   "id": "10510882",
   "metadata": {},
   "outputs": [],
   "source": []
  },
  {
   "cell_type": "code",
   "execution_count": null,
   "id": "ca6ce3e5",
   "metadata": {},
   "outputs": [],
   "source": []
  },
  {
   "cell_type": "code",
   "execution_count": null,
   "id": "0686efc2",
   "metadata": {},
   "outputs": [],
   "source": []
  },
  {
   "cell_type": "code",
   "execution_count": null,
   "id": "d3060acb",
   "metadata": {},
   "outputs": [],
   "source": []
  },
  {
   "cell_type": "code",
   "execution_count": null,
   "id": "57b28967",
   "metadata": {},
   "outputs": [],
   "source": []
  },
  {
   "cell_type": "code",
   "execution_count": null,
   "id": "3032d273",
   "metadata": {},
   "outputs": [],
   "source": []
  },
  {
   "cell_type": "code",
   "execution_count": null,
   "id": "e87ec5d7",
   "metadata": {},
   "outputs": [],
   "source": []
  },
  {
   "cell_type": "code",
   "execution_count": null,
   "id": "5bee3590",
   "metadata": {},
   "outputs": [],
   "source": []
  },
  {
   "cell_type": "code",
   "execution_count": null,
   "id": "b0fbf1e4",
   "metadata": {},
   "outputs": [],
   "source": []
  },
  {
   "cell_type": "code",
   "execution_count": null,
   "id": "0adca8f9",
   "metadata": {},
   "outputs": [],
   "source": []
  },
  {
   "cell_type": "code",
   "execution_count": null,
   "id": "29aea5c3",
   "metadata": {},
   "outputs": [],
   "source": []
  },
  {
   "cell_type": "code",
   "execution_count": null,
   "id": "4663f74f",
   "metadata": {},
   "outputs": [],
   "source": []
  },
  {
   "cell_type": "code",
   "execution_count": null,
   "id": "1716620f",
   "metadata": {},
   "outputs": [],
   "source": []
  }
 ],
 "metadata": {
  "kernelspec": {
   "display_name": "Python 3 (ipykernel)",
   "language": "python",
   "name": "python3"
  },
  "language_info": {
   "codemirror_mode": {
    "name": "ipython",
    "version": 3
   },
   "file_extension": ".py",
   "mimetype": "text/x-python",
   "name": "python",
   "nbconvert_exporter": "python",
   "pygments_lexer": "ipython3",
   "version": "3.10.9"
  }
 },
 "nbformat": 4,
 "nbformat_minor": 5
}
